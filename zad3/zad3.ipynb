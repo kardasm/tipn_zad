{
 "cells": [
  {
   "cell_type": "markdown",
   "metadata": {},
   "source": [
    "# Liczenie średniej z przedmiotów\n",
    "\n",
    "Zadanie polega na policzeniu średniej ocen ze wszystkich przedmiotów na moich studiach w tym semestrze."
   ]
  },
  {
   "cell_type": "code",
   "execution_count": 4,
   "metadata": {},
   "outputs": [],
   "source": [
    "technologie_informatyczne_w_pracy_naukowej = 5.0\n",
    "psychologia_ogolna = 4.0\n",
    "przeglad_specjalnosci_i_dziedzin_psychologii = 4.0\n",
    "trening_interpersonalny = 5.0\n",
    "wprowadzenie_do_komunikacji_interpersonalnej = 4.0\n",
    "biologiczne_mechanizmy_zachowania = 4.0\n",
    "jezyk_angielski = 5.0\n",
    "podstawy_statystyki_i_rachunku_prawdopodobienstwa = 4.0\n",
    "podstawy_logiki = 4.0\n",
    "metodologia = 4.5\n",
    "filozofia = 4.0\n"
   ]
  },
  {
   "cell_type": "code",
   "execution_count": 10,
   "metadata": {},
   "outputs": [],
   "source": [
    "suma = technologie_informatyczne_w_pracy_naukowej + psychologia_ogolna + przeglad_specjalnosci_i_dziedzin_psychologii + trening_interpersonalny + wprowadzenie_do_komunikacji_interpersonalnej + biologiczne_mechanizmy_zachowania + jezyk_angielski + podstawy_statystyki_i_rachunku_prawdopodobienstwa + podstawy_logiki + metodologia + filozofia"
   ]
  },
  {
   "cell_type": "code",
   "execution_count": 11,
   "metadata": {},
   "outputs": [
    {
     "data": {
      "text/plain": [
       "47.5"
      ]
     },
     "execution_count": 11,
     "metadata": {},
     "output_type": "execute_result"
    }
   ],
   "source": [
    "suma"
   ]
  },
  {
   "cell_type": "code",
   "execution_count": 7,
   "metadata": {},
   "outputs": [
    {
     "data": {
      "text/plain": [
       "4.318181818181818"
      ]
     },
     "execution_count": 7,
     "metadata": {},
     "output_type": "execute_result"
    }
   ],
   "source": [
    "suma / 11"
   ]
  },
  {
   "cell_type": "code",
   "execution_count": 14,
   "metadata": {},
   "outputs": [],
   "source": [
    "srednia = 4.318181818181818"
   ]
  },
  {
   "cell_type": "code",
   "execution_count": 15,
   "metadata": {},
   "outputs": [
    {
     "name": "stdout",
     "output_type": "stream",
     "text": [
      "moja średnia w pierwszym semestrze studiów to:4.318181818181818\n"
     ]
    }
   ],
   "source": [
    "print(\"moja średnia w pierwszym semestrze studiów to:\" + str(srednia))"
   ]
  }
 ],
 "metadata": {
  "kernelspec": {
   "display_name": "Python 3",
   "language": "python",
   "name": "python3"
  },
  "language_info": {
   "codemirror_mode": {
    "name": "ipython",
    "version": 3
   },
   "file_extension": ".py",
   "mimetype": "text/x-python",
   "name": "python",
   "nbconvert_exporter": "python",
   "pygments_lexer": "ipython3",
   "version": "3.7.0"
  }
 },
 "nbformat": 4,
 "nbformat_minor": 2
}
