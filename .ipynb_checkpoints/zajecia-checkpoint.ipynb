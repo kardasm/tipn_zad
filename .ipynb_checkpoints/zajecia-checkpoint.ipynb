{
 "cells": [
  {
   "cell_type": "code",
   "execution_count": 1,
   "metadata": {},
   "outputs": [
    {
     "name": "stdout",
     "output_type": "stream",
     "text": [
      "licznik to 0\n",
      "licznik to 1\n",
      "licznik to 2\n",
      "licznik to 3\n",
      "licznik to 4\n"
     ]
    }
   ],
   "source": [
    "licznik = 0\n",
    "while licznik < 5:\n",
    "    print(\"licznik to\", licznik)\n",
    "    licznik += 1"
   ]
  },
  {
   "cell_type": "code",
   "execution_count": 1,
   "metadata": {},
   "outputs": [
    {
     "name": "stdin",
     "output_type": "stream",
     "text": [
      "Podaj hasło: idź spać!\n"
     ]
    },
    {
     "name": "stdout",
     "output_type": "stream",
     "text": [
      "Podałeś dobre hasło.\n"
     ]
    }
   ],
   "source": [
    "haslo = input (\"Podaj hasło:\")\n",
    "\n",
    "while haslo != 'idź spać!':\n",
    "    print(\"Podałeś złe hasło.\")\n",
    "    haslo = input (\"Podaj hasło:\")\n",
    "\n",
    "print (\"Podałeś dobre hasło.\")"
   ]
  },
  {
   "cell_type": "code",
   "execution_count": 7,
   "metadata": {},
   "outputs": [
    {
     "name": "stdout",
     "output_type": "stream",
     "text": [
      "i to: 0\n",
      "i to: 6\n",
      "i to: 12\n",
      "i to: 18\n",
      "i to: 24\n",
      "i to: 30\n",
      "i to: 36\n",
      "i to: 42\n",
      "i to: 48\n",
      "i to: 54\n",
      "i to: 60\n",
      "i to: 66\n",
      "i to: 72\n",
      "i to: 78\n",
      "i to: 84\n",
      "i to: 90\n",
      "i to: 96\n"
     ]
    }
   ],
   "source": [
    "i = 0\n",
    "\n",
    "while i <= 100:\n",
    "    if (i % 2 == 0) and (i % 3 == 0):\n",
    "        print(\"i to:\", i)\n",
    "    i += 1\n"
   ]
  },
  {
   "cell_type": "code",
   "execution_count": 31,
   "metadata": {},
   "outputs": [],
   "source": [
    "imiona = (\"Zosia\", \"Basia\", \"Czesia\", \"Kasia\", \"Ania\", \"Asia\")"
   ]
  },
  {
   "cell_type": "code",
   "execution_count": 32,
   "metadata": {},
   "outputs": [
    {
     "data": {
      "text/plain": [
       "('Zosia', 'Basia', 'Czesia', 'Kasia', 'Ania', 'Asia')"
      ]
     },
     "execution_count": 32,
     "metadata": {},
     "output_type": "execute_result"
    }
   ],
   "source": [
    "imiona"
   ]
  },
  {
   "cell_type": "code",
   "execution_count": 33,
   "metadata": {},
   "outputs": [
    {
     "name": "stdout",
     "output_type": "stream",
     "text": [
      "Zosia Nowak\n",
      "Basia Nowak\n",
      "Czesia Nowak\n",
      "Kasia Nowak\n",
      "Ania Nowak\n",
      "Asia Nowak\n"
     ]
    }
   ],
   "source": [
    "for i in imiona:\n",
    "    print(i + \" Nowak\")"
   ]
  },
  {
   "cell_type": "code",
   "execution_count": 34,
   "metadata": {},
   "outputs": [
    {
     "name": "stdout",
     "output_type": "stream",
     "text": [
      "Zosia Nowak\n"
     ]
    }
   ],
   "source": [
    "i = imiona [0]\n",
    "print(i + ' Nowak')\n",
    "# itd"
   ]
  },
  {
   "cell_type": "code",
   "execution_count": 35,
   "metadata": {},
   "outputs": [
    {
     "data": {
      "text/plain": [
       "('Zosia', 'Basia', 'Czesia', 'Kasia', 'Ania', 'Asia')"
      ]
     },
     "execution_count": 35,
     "metadata": {},
     "output_type": "execute_result"
    }
   ],
   "source": [
    "imiona"
   ]
  },
  {
   "cell_type": "code",
   "execution_count": 36,
   "metadata": {},
   "outputs": [
    {
     "data": {
      "text/plain": [
       "['Zosia Nowak',\n",
       " 'Basia Nowak',\n",
       " 'Czesia Nowak',\n",
       " 'Kasia Nowak',\n",
       " 'Ania Nowak',\n",
       " 'Asia Nowak']"
      ]
     },
     "execution_count": 36,
     "metadata": {},
     "output_type": "execute_result"
    }
   ],
   "source": [
    "imiona_nazwiska = []\n",
    "\n",
    "for i in imiona:\n",
    "    imiona_nazwiska.append(i+' Nowak')\n",
    "\n",
    "imiona_nazwiska"
   ]
  },
  {
   "cell_type": "code",
   "execution_count": 37,
   "metadata": {},
   "outputs": [
    {
     "data": {
      "text/plain": [
       "('Zosia', 'Basia', 'Czesia', 'Kasia', 'Ania', 'Asia')"
      ]
     },
     "execution_count": 37,
     "metadata": {},
     "output_type": "execute_result"
    }
   ],
   "source": [
    "imiona"
   ]
  },
  {
   "cell_type": "code",
   "execution_count": 38,
   "metadata": {},
   "outputs": [
    {
     "data": {
      "text/plain": [
       "4"
      ]
     },
     "execution_count": 38,
     "metadata": {},
     "output_type": "execute_result"
    }
   ],
   "source": [
    "len(imiona[4])"
   ]
  },
  {
   "cell_type": "code",
   "execution_count": 40,
   "metadata": {},
   "outputs": [
    {
     "data": {
      "text/plain": [
       "[5, 5, 6, 5, 4, 4]"
      ]
     },
     "execution_count": 40,
     "metadata": {},
     "output_type": "execute_result"
    }
   ],
   "source": [
    "dlugosc_imion = []\n",
    "\n",
    "for i in imiona:\n",
    "    dlugosc_imion.append(len(i))\n",
    "dlugosc_imion"
   ]
  },
  {
   "cell_type": "code",
   "execution_count": 41,
   "metadata": {},
   "outputs": [
    {
     "data": {
      "text/plain": [
       "4.833333333333333"
      ]
     },
     "execution_count": 41,
     "metadata": {},
     "output_type": "execute_result"
    }
   ],
   "source": [
    "import numpy as np\n",
    "\n",
    "np.mean(dlugosc_imion)"
   ]
  },
  {
   "cell_type": "code",
   "execution_count": 52,
   "metadata": {},
   "outputs": [
    {
     "data": {
      "text/plain": [
       "0.6871842709362768"
      ]
     },
     "execution_count": 52,
     "metadata": {},
     "output_type": "execute_result"
    }
   ],
   "source": [
    "np.std(dlugosc_imion)"
   ]
  },
  {
   "cell_type": "code",
   "execution_count": 53,
   "metadata": {},
   "outputs": [],
   "source": [
    "napis = ('Brzeczyszczykiewicz')"
   ]
  },
  {
   "cell_type": "code",
   "execution_count": 54,
   "metadata": {},
   "outputs": [
    {
     "data": {
      "text/plain": [
       "'eczy'"
      ]
     },
     "execution_count": 54,
     "metadata": {},
     "output_type": "execute_result"
    }
   ],
   "source": [
    "napis[3:7]"
   ]
  },
  {
   "cell_type": "code",
   "execution_count": 57,
   "metadata": {},
   "outputs": [
    {
     "name": "stdout",
     "output_type": "stream",
     "text": [
      "B\n",
      "r\n",
      "z\n",
      "e\n",
      "c\n",
      "z\n",
      "y\n",
      "s\n",
      "z\n",
      "c\n",
      "z\n",
      "y\n",
      "k\n",
      "i\n",
      "e\n",
      "w\n",
      "i\n",
      "c\n",
      "z\n"
     ]
    }
   ],
   "source": [
    "for literka in napis:\n",
    "    print(literka)"
   ]
  },
  {
   "cell_type": "code",
   "execution_count": 58,
   "metadata": {},
   "outputs": [
    {
     "ename": "SyntaxError",
     "evalue": "invalid syntax (<ipython-input-58-b37b67cdbb4d>, line 7)",
     "output_type": "error",
     "traceback": [
      "\u001b[0;36m  File \u001b[0;32m\"<ipython-input-58-b37b67cdbb4d>\"\u001b[0;36m, line \u001b[0;32m7\u001b[0m\n\u001b[0;31m    print(\"W Panu Tadeuszu jest \", l, literek a\")\u001b[0m\n\u001b[0m                                              ^\u001b[0m\n\u001b[0;31mSyntaxError\u001b[0m\u001b[0;31m:\u001b[0m invalid syntax\n"
     ]
    }
   ],
   "source": [
    "l = 0\n",
    "\n",
    "for literka in napis:\n",
    "    if (literka == \"a\") or (literka == \"A\"):\n",
    "        l += 1\n",
    "        \n",
    "print(\"W Panu Tadeuszu jest \", l, literek a\")"
   ]
  }
 ],
 "metadata": {
  "kernelspec": {
   "display_name": "Python 3",
   "language": "python",
   "name": "python3"
  },
  "language_info": {
   "codemirror_mode": {
    "name": "ipython",
    "version": 3
   },
   "file_extension": ".py",
   "mimetype": "text/x-python",
   "name": "python",
   "nbconvert_exporter": "python",
   "pygments_lexer": "ipython3",
   "version": "3.7.0"
  }
 },
 "nbformat": 4,
 "nbformat_minor": 2
}
