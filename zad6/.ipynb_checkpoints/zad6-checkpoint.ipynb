{
 "cells": [
  {
   "cell_type": "code",
   "execution_count": null,
   "metadata": {},
   "outputs": [],
   "source": [
    "#Jakim warzywem jesteś?"
   ]
  },
  {
   "cell_type": "code",
   "execution_count": 22,
   "metadata": {},
   "outputs": [],
   "source": [
    "a = \"Lubisz warzywa strączkowe.\"\n",
    "b = \"Twoim ulubionym kolorem jest zielony.\"\n",
    "c = \"Wolisz warzywa od owoców.\"\n",
    "d = \"Jesteś szalony i żywiołowy.\"\n",
    "e = \"Twoja dieta jest urozmaicona, nie ma w niej miejsca na nudę.\"\n",
    "pusta_lista = []"
   ]
  },
  {
   "cell_type": "code",
   "execution_count": 21,
   "metadata": {},
   "outputs": [],
   "source": [
    "def test(x):\n",
    "    lista = [a, b, c, d, e]"
   ]
  },
  {
   "cell_type": "code",
   "execution_count": 20,
   "metadata": {},
   "outputs": [],
   "source": [
    "def zadaj_pytanie(treść_pytania):\n",
    "    print(treść_pytania)\n",
    "    i = input(\"1 oznacza zupełnie się nie zgadzam, a 5 oznacza całkowicie się zgadzam.\")\n",
    "    i = int(i)\n",
    "    \n",
    "    if i > 5 or i < 1:\n",
    "        print(\"Spróbuj jeszcze raz.\")\n",
    "    else:\n",
    "        return i"
   ]
  },
  {
   "cell_type": "code",
   "execution_count": 19,
   "metadata": {},
   "outputs": [],
   "source": [
    "def zadaj_pytanie(treść_pytania):\n",
    "    print(treść_pytania)\n",
    "    i = input(\"1 oznacza zupełnie się nie zgadzam, a 5 oznacza całkowicie się zgadzam.\")\n",
    "    i = int(i)\n",
    "    \n",
    "    if i > 5 or i < 1:\n",
    "        print(\"Spróbuj jeszcze raz.\")\n",
    "    else:\n",
    "        return i"
   ]
  },
  {
   "cell_type": "code",
   "execution_count": 23,
   "metadata": {},
   "outputs": [
    {
     "name": "stdout",
     "output_type": "stream",
     "text": [
      "Lubisz warzywa strączkowe.\n"
     ]
    },
    {
     "name": "stdin",
     "output_type": "stream",
     "text": [
      "1 oznacza zupełnie się nie zgadzam, a 5 oznacza całkowicie się zgadzam. 5\n"
     ]
    },
    {
     "name": "stdout",
     "output_type": "stream",
     "text": [
      "Twoim ulubionym kolorem jest zielony.\n"
     ]
    },
    {
     "name": "stdin",
     "output_type": "stream",
     "text": [
      "1 oznacza zupełnie się nie zgadzam, a 5 oznacza całkowicie się zgadzam. 1\n"
     ]
    },
    {
     "name": "stdout",
     "output_type": "stream",
     "text": [
      "Wolisz warzywa od owoców.\n"
     ]
    },
    {
     "name": "stdin",
     "output_type": "stream",
     "text": [
      "1 oznacza zupełnie się nie zgadzam, a 5 oznacza całkowicie się zgadzam. 1\n"
     ]
    },
    {
     "name": "stdout",
     "output_type": "stream",
     "text": [
      "Jesteś szalony i żywiołowy.\n"
     ]
    },
    {
     "name": "stdin",
     "output_type": "stream",
     "text": [
      "1 oznacza zupełnie się nie zgadzam, a 5 oznacza całkowicie się zgadzam. 2\n"
     ]
    },
    {
     "name": "stdout",
     "output_type": "stream",
     "text": [
      "Twoja dieta jest urozmaicona, nie ma w niej miejsca na nudę.\n"
     ]
    },
    {
     "name": "stdin",
     "output_type": "stream",
     "text": [
      "1 oznacza zupełnie się nie zgadzam, a 5 oznacza całkowicie się zgadzam. 4\n"
     ]
    },
    {
     "name": "stdout",
     "output_type": "stream",
     "text": [
      "Twój wynik to: 13 Jesteś bakłażanem!\n"
     ]
    }
   ],
   "source": [
    "punkty = zadaj_pytanie(a)\n",
    "pusta_lista.append(punkty)\n",
    "punkty = zadaj_pytanie(b)\n",
    "pusta_lista.append(punkty)\n",
    "punkty = zadaj_pytanie(c)\n",
    "pusta_lista.append(punkty)\n",
    "punkty = zadaj_pytanie(d)\n",
    "pusta_lista.append(punkty)\n",
    "punkty = zadaj_pytanie(e)\n",
    "pusta_lista.append(punkty)\n",
    "wynik = sum(pusta_lista)\n",
    "wynik = int(wynik)\n",
    "if wynik >= 5 and wynik < 10:\n",
    "    print(\"Twój wynik to:\", wynik, \"Jesteś fasolą zwyczajną!\")\n",
    "elif wynik >= 10 and wynik < 15:\n",
    "    print(\"Twój wynik to:\", wynik, \"Jesteś bakłażanem!\")\n",
    "elif wynik >= 15 and wynik < 20:\n",
    "    print(\"Twój wynik to:\", wynik, \"Jesteś papryką czerwoną!\")\n",
    "elif wynik >= 20 and wynik < 25:\n",
    "    print(\"Twój wynik to:\", wynik, \"Jesteś marchewką!\")\n"
   ]
  },
  {
   "cell_type": "code",
   "execution_count": null,
   "metadata": {},
   "outputs": [],
   "source": []
  }
 ],
 "metadata": {
  "kernelspec": {
   "display_name": "Python 3",
   "language": "python",
   "name": "python3"
  },
  "language_info": {
   "codemirror_mode": {
    "name": "ipython",
    "version": 3
   },
   "file_extension": ".py",
   "mimetype": "text/x-python",
   "name": "python",
   "nbconvert_exporter": "python",
   "pygments_lexer": "ipython3",
   "version": "3.7.0"
  }
 },
 "nbformat": 4,
 "nbformat_minor": 2
}
